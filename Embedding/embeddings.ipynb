{
 "cells": [
  {
   "cell_type": "markdown",
   "metadata": {},
   "source": [
    "## Embeddings en OpenAI"
   ]
  },
  {
   "cell_type": "code",
   "execution_count": null,
   "metadata": {},
   "outputs": [],
   "source": [
    "import os, getpass"
   ]
  },
  {
   "cell_type": "code",
   "execution_count": null,
   "metadata": {},
   "outputs": [],
   "source": [
    "os.environ[\"OPENAI_API_KEY\"] = getpass.getpass(\"Ingresa tu API Key de OpenAI : \")"
   ]
  },
  {
   "cell_type": "code",
   "execution_count": null,
   "metadata": {},
   "outputs": [],
   "source": [
    "from openai import OpenAI\n",
    "client = OpenAI()"
   ]
  },
  {
   "cell_type": "code",
   "execution_count": null,
   "metadata": {},
   "outputs": [],
   "source": [
    "def generate_embedding(text, model):\n",
    "   text = text.replace(\"\\n\", \" \")\n",
    "   response = client.embeddings.create(\n",
    "      input = text,\n",
    "      model = model\n",
    "   )\n",
    "   return response.data[0].embedding"
   ]
  },
  {
   "cell_type": "markdown",
   "metadata": {},
   "source": [
    "## Modelo de embedding : text-embedding-3-small"
   ]
  },
  {
   "cell_type": "code",
   "execution_count": null,
   "metadata": {},
   "outputs": [],
   "source": [
    "embedding = generate_embedding(\"Me gusta la comida china\", \"text-embedding-3-small\")"
   ]
  },
  {
   "cell_type": "code",
   "execution_count": null,
   "metadata": {},
   "outputs": [],
   "source": [
    "len(embedding), embedding"
   ]
  },
  {
   "cell_type": "markdown",
   "metadata": {},
   "source": [
    "## Modelo de embedding : text-embedding-3-large"
   ]
  },
  {
   "cell_type": "code",
   "execution_count": null,
   "metadata": {},
   "outputs": [],
   "source": [
    "embedding_large = generate_embedding(\"Me gusta la comida china\", \"text-embedding-3-large\")"
   ]
  },
  {
   "cell_type": "code",
   "execution_count": null,
   "metadata": {},
   "outputs": [],
   "source": [
    "len(embedding_large), embedding_large"
   ]
  },
  {
   "cell_type": "markdown",
   "metadata": {},
   "source": [
    "## Visualizando los embbedings del modelo text-embedding-3-small"
   ]
  },
  {
   "cell_type": "code",
   "execution_count": null,
   "metadata": {},
   "outputs": [],
   "source": [
    "import pandas as pd\n",
    "from sklearn.decomposition import PCA\n",
    "import matplotlib.pyplot as plt\n",
    "\n",
    "words = [\"dog\", \"cat\", \"beach\", \"apple\", \"banana\", \"museum\", \"stadium\", \"fish\"]\n",
    "df = pd.DataFrame({\"city\" : words})\n",
    "\n",
    "# Genera embeddings para cada palabra utilizando la función 'generate_embedding'\n",
    "# y almacenar estos embeddings en una nueva columna llamada 'words_embeddings'.\n",
    "df[\"words_embeddings\"] = [generate_embedding(word, \"text-embedding-3-small\") for word in words]\n",
    "\n",
    "# Inicializa el algoritmo PCA para reducir la dimensionalidad a 3 componentes.\n",
    "pca = PCA(n_components = 3)\n",
    "\n",
    "# Aplica PCA a los embeddings de las palabras y almacenar el resultado en 't'.\n",
    "t = pca.fit_transform(df['words_embeddings'].tolist())\n",
    "\n",
    "# Inicializar una figura para la visualización con un tamaño específico.\n",
    "fig = plt.figure(figsize = (10,20))\n",
    "ax = fig.add_subplot(111, projection = \"3d\")\n",
    "\n",
    "# Graficar los puntos en 3D usando los resultados de PCA.\n",
    "ax.scatter(t[:,0], t[:,1], t[:,2])\n",
    "\n",
    "# Anotar cada punto con el nombre de la palabra correspondiente.\n",
    "for i, txt in enumerate(words):\n",
    "    ax.text(t[i,0], t[i,1], t[i,2], txt)\n",
    "\n",
    "plt.show()"
   ]
  },
  {
   "cell_type": "markdown",
   "metadata": {},
   "source": [
    "## Visualizando los embbeding del modelo text-embedding-3-large"
   ]
  },
  {
   "cell_type": "code",
   "execution_count": null,
   "metadata": {},
   "outputs": [],
   "source": [
    "import pandas as pd\n",
    "from sklearn.decomposition import PCA\n",
    "import matplotlib.pyplot as plt\n",
    "\n",
    "words = [\"dog\", \"cat\", \"beach\", \"apple\", \"banana\", \"museum\", \"stadium\", \"fish\"]\n",
    "df = pd.DataFrame({\"city\" : words})\n",
    "\n",
    "# Genera embeddings para cada palabra utilizando la función 'generate_embedding'\n",
    "# y almacenar estos embeddings en una nueva columna llamada 'words_embeddings'.\n",
    "df[\"words_embeddings\"] = [generate_embedding(word, \"text-embedding-3-large\") for word in words]\n",
    "\n",
    "# Inicializa el algoritmo PCA para reducir la dimensionalidad a 3 componentes.\n",
    "pca = PCA(n_components = 3)\n",
    "\n",
    "# Aplica PCA a los embeddings de las palabras y almacenar el resultado en 't'.\n",
    "t = pca.fit_transform(df['words_embeddings'].tolist())\n",
    "\n",
    "# Inicializar una figura para la visualización con un tamaño específico.\n",
    "fig = plt.figure(figsize = (10,20))\n",
    "ax = fig.add_subplot(111, projection = \"3d\")\n",
    "\n",
    "# Graficar los puntos en 3D usando los resultados de PCA.\n",
    "ax.scatter(t[:,0], t[:,1], t[:,2])\n",
    "\n",
    "# Anotar cada punto con el nombre de la palabra correspondiente.\n",
    "for i, txt in enumerate(words):\n",
    "    ax.text(t[i,0], t[i,1], t[i,2], txt)\n",
    "\n",
    "plt.show()"
   ]
  }
 ],
 "metadata": {
  "kernelspec": {
   "display_name": "Python 3",
   "language": "python",
   "name": "python3"
  },
  "language_info": {
   "codemirror_mode": {
    "name": "ipython",
    "version": 3
   },
   "file_extension": ".py",
   "mimetype": "text/x-python",
   "name": "python",
   "nbconvert_exporter": "python",
   "pygments_lexer": "ipython3",
   "version": "3.10.13"
  }
 },
 "nbformat": 4,
 "nbformat_minor": 2
}
