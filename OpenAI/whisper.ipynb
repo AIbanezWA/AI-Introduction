{
 "cells": [
  {
   "cell_type": "markdown",
   "metadata": {},
   "source": [
    "## Transcribiendo texto desde un archivo mp3 con Whisper"
   ]
  },
  {
   "cell_type": "code",
   "execution_count": 1,
   "metadata": {},
   "outputs": [],
   "source": [
    "import getpass, os"
   ]
  },
  {
   "cell_type": "code",
   "execution_count": 2,
   "metadata": {},
   "outputs": [],
   "source": [
    "os.environ[\"OPENAI_API_KEY\"] = getpass.getpass(\"Ingresa tu API Key de OpenAI\")"
   ]
  },
  {
   "cell_type": "code",
   "execution_count": 3,
   "metadata": {},
   "outputs": [],
   "source": [
    "from openai import OpenAI\n",
    "client = OpenAI()\n",
    "\n",
    "audio_file = open(\"cliente-enojado.mp3\", \"rb\")\n",
    "transcript = client.audio.transcriptions.create(\n",
    "  model = \"whisper-1\", \n",
    "  file = audio_file\n",
    ")"
   ]
  },
  {
   "cell_type": "code",
   "execution_count": 4,
   "metadata": {},
   "outputs": [
    {
     "data": {
      "text/plain": [
       "'¿Hola? ¿Hola? ¿Qué tal? Buenas noches. ¿Se encuentra Karen Valenzuela? ¿Quién habla? Me estoy comunicando de Banco Patagonia. Mi nombre es Cristian Gregorio. No sé si tengo el gusto de hablar con Karen. Me llamaron ayer y les dije que no me interesa nada del banco. Te habían comunicado con usted, Karen. No sé si han podido llegar a contactarle, a comentarle un poco acerca de lo que tenemos a su disposición. Les dije que no me interesa nada del banco. Nada, en lo absoluto. En lo absoluto.'"
      ]
     },
     "execution_count": 4,
     "metadata": {},
     "output_type": "execute_result"
    }
   ],
   "source": [
    "transcript.text"
   ]
  }
 ],
 "metadata": {
  "kernelspec": {
   "display_name": "Python 3",
   "language": "python",
   "name": "python3"
  },
  "language_info": {
   "codemirror_mode": {
    "name": "ipython",
    "version": 3
   },
   "file_extension": ".py",
   "mimetype": "text/x-python",
   "name": "python",
   "nbconvert_exporter": "python",
   "pygments_lexer": "ipython3",
   "version": "3.10.13"
  }
 },
 "nbformat": 4,
 "nbformat_minor": 2
}
